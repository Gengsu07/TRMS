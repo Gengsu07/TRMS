{
 "cells": [
  {
   "cell_type": "code",
   "execution_count": 68,
   "metadata": {},
   "outputs": [],
   "source": [
    "import pandas as pd\n",
    "import streamlit_authenticator as stauth"
   ]
  },
  {
   "cell_type": "code",
   "execution_count": 69,
   "metadata": {},
   "outputs": [],
   "source": [
    "data = pd.read_excel('pegawai110.xlsx', dtype={'NIP':'str','KD':'str'},usecols=['NIP','Nama','Kantor','KD'])"
   ]
  },
  {
   "cell_type": "code",
   "execution_count": 70,
   "metadata": {},
   "outputs": [],
   "source": [
    "data['password'] = 'KilauJaktim'+'@'+data['NIP']"
   ]
  },
  {
   "cell_type": "code",
   "execution_count": 71,
   "metadata": {},
   "outputs": [
    {
     "data": {
      "text/html": [
       "<div>\n",
       "<style scoped>\n",
       "    .dataframe tbody tr th:only-of-type {\n",
       "        vertical-align: middle;\n",
       "    }\n",
       "\n",
       "    .dataframe tbody tr th {\n",
       "        vertical-align: top;\n",
       "    }\n",
       "\n",
       "    .dataframe thead th {\n",
       "        text-align: right;\n",
       "    }\n",
       "</style>\n",
       "<table border=\"1\" class=\"dataframe\">\n",
       "  <thead>\n",
       "    <tr style=\"text-align: right;\">\n",
       "      <th></th>\n",
       "      <th>Nama</th>\n",
       "      <th>NIP</th>\n",
       "      <th>Kantor</th>\n",
       "      <th>KD</th>\n",
       "      <th>password</th>\n",
       "    </tr>\n",
       "  </thead>\n",
       "  <tbody>\n",
       "    <tr>\n",
       "      <th>0</th>\n",
       "      <td>MUHAMMAD ISMIRANSYAH M. ZAIN</td>\n",
       "      <td>060077930</td>\n",
       "      <td>Kanwil DJP Jakarta Timur</td>\n",
       "      <td>110</td>\n",
       "      <td>KilauJaktim@060077930</td>\n",
       "    </tr>\n",
       "    <tr>\n",
       "      <th>1</th>\n",
       "      <td>SUGENG SATOTO</td>\n",
       "      <td>060094070</td>\n",
       "      <td>Kanwil DJP Jakarta Timur</td>\n",
       "      <td>110</td>\n",
       "      <td>KilauJaktim@060094070</td>\n",
       "    </tr>\n",
       "    <tr>\n",
       "      <th>2</th>\n",
       "      <td>DESSY EKA PUTRI</td>\n",
       "      <td>060087065</td>\n",
       "      <td>Kanwil DJP Jakarta Timur</td>\n",
       "      <td>110</td>\n",
       "      <td>KilauJaktim@060087065</td>\n",
       "    </tr>\n",
       "    <tr>\n",
       "      <th>3</th>\n",
       "      <td>SANDRA BUANA</td>\n",
       "      <td>060083161</td>\n",
       "      <td>Kanwil DJP Jakarta Timur</td>\n",
       "      <td>110</td>\n",
       "      <td>KilauJaktim@060083161</td>\n",
       "    </tr>\n",
       "    <tr>\n",
       "      <th>4</th>\n",
       "      <td>ARDHIE PERMADI</td>\n",
       "      <td>060083105</td>\n",
       "      <td>Kanwil DJP Jakarta Timur</td>\n",
       "      <td>110</td>\n",
       "      <td>KilauJaktim@060083105</td>\n",
       "    </tr>\n",
       "    <tr>\n",
       "      <th>...</th>\n",
       "      <td>...</td>\n",
       "      <td>...</td>\n",
       "      <td>...</td>\n",
       "      <td>...</td>\n",
       "      <td>...</td>\n",
       "    </tr>\n",
       "    <tr>\n",
       "      <th>1082</th>\n",
       "      <td>NASTRIA PRATAMA</td>\n",
       "      <td>930302289</td>\n",
       "      <td>KPP Madya Dua Jakarta Timur</td>\n",
       "      <td>097</td>\n",
       "      <td>KilauJaktim@930302289</td>\n",
       "    </tr>\n",
       "    <tr>\n",
       "      <th>1083</th>\n",
       "      <td>ADRY NOVIANTO</td>\n",
       "      <td>860013856</td>\n",
       "      <td>KPP Madya Dua Jakarta Timur</td>\n",
       "      <td>097</td>\n",
       "      <td>KilauJaktim@860013856</td>\n",
       "    </tr>\n",
       "    <tr>\n",
       "      <th>1084</th>\n",
       "      <td>HERU IRFANTO</td>\n",
       "      <td>808320132</td>\n",
       "      <td>KPP Madya Dua Jakarta Timur</td>\n",
       "      <td>097</td>\n",
       "      <td>KilauJaktim@808320132</td>\n",
       "    </tr>\n",
       "    <tr>\n",
       "      <th>1085</th>\n",
       "      <td>MIFTAKHUL PRATAMA PUTRA</td>\n",
       "      <td>810600567</td>\n",
       "      <td>KPP Madya Dua Jakarta Timur</td>\n",
       "      <td>097</td>\n",
       "      <td>KilauJaktim@810600567</td>\n",
       "    </tr>\n",
       "    <tr>\n",
       "      <th>1086</th>\n",
       "      <td>STACIA ARGANI</td>\n",
       "      <td>820006345</td>\n",
       "      <td>KPP Madya Dua Jakarta Timur</td>\n",
       "      <td>097</td>\n",
       "      <td>KilauJaktim@820006345</td>\n",
       "    </tr>\n",
       "  </tbody>\n",
       "</table>\n",
       "<p>1087 rows × 5 columns</p>\n",
       "</div>"
      ],
      "text/plain": [
       "                              Nama        NIP                       Kantor  \\\n",
       "0     MUHAMMAD ISMIRANSYAH M. ZAIN  060077930     Kanwil DJP Jakarta Timur   \n",
       "1                    SUGENG SATOTO  060094070     Kanwil DJP Jakarta Timur   \n",
       "2                  DESSY EKA PUTRI  060087065     Kanwil DJP Jakarta Timur   \n",
       "3                     SANDRA BUANA  060083161     Kanwil DJP Jakarta Timur   \n",
       "4                   ARDHIE PERMADI  060083105     Kanwil DJP Jakarta Timur   \n",
       "...                            ...        ...                          ...   \n",
       "1082               NASTRIA PRATAMA  930302289  KPP Madya Dua Jakarta Timur   \n",
       "1083                 ADRY NOVIANTO  860013856  KPP Madya Dua Jakarta Timur   \n",
       "1084                  HERU IRFANTO  808320132  KPP Madya Dua Jakarta Timur   \n",
       "1085       MIFTAKHUL PRATAMA PUTRA  810600567  KPP Madya Dua Jakarta Timur   \n",
       "1086                 STACIA ARGANI  820006345  KPP Madya Dua Jakarta Timur   \n",
       "\n",
       "       KD               password  \n",
       "0     110  KilauJaktim@060077930  \n",
       "1     110  KilauJaktim@060094070  \n",
       "2     110  KilauJaktim@060087065  \n",
       "3     110  KilauJaktim@060083161  \n",
       "4     110  KilauJaktim@060083105  \n",
       "...   ...                    ...  \n",
       "1082  097  KilauJaktim@930302289  \n",
       "1083  097  KilauJaktim@860013856  \n",
       "1084  097  KilauJaktim@808320132  \n",
       "1085  097  KilauJaktim@810600567  \n",
       "1086  097  KilauJaktim@820006345  \n",
       "\n",
       "[1087 rows x 5 columns]"
      ]
     },
     "execution_count": 71,
     "metadata": {},
     "output_type": "execute_result"
    }
   ],
   "source": [
    "data"
   ]
  },
  {
   "cell_type": "code",
   "execution_count": 72,
   "metadata": {},
   "outputs": [],
   "source": [
    "def makehash(x):\n",
    "    passw = stauth.Hasher(x).generate()\n",
    "    return passw"
   ]
  },
  {
   "cell_type": "code",
   "execution_count": 73,
   "metadata": {},
   "outputs": [],
   "source": [
    "data = data.head()"
   ]
  },
  {
   "cell_type": "code",
   "execution_count": 74,
   "metadata": {},
   "outputs": [
    {
     "name": "stderr",
     "output_type": "stream",
     "text": [
      "C:\\Users\\sugengw07\\AppData\\Local\\Temp\\ipykernel_12588\\584411665.py:1: SettingWithCopyWarning: \n",
      "A value is trying to be set on a copy of a slice from a DataFrame.\n",
      "Try using .loc[row_indexer,col_indexer] = value instead\n",
      "\n",
      "See the caveats in the documentation: https://pandas.pydata.org/pandas-docs/stable/user_guide/indexing.html#returning-a-view-versus-a-copy\n",
      "  data['pass_hashed'] = data['password'].apply(lambda x: makehash([x])[0])\n"
     ]
    }
   ],
   "source": [
    "data['pass_hashed'] = data['password'].apply(lambda x: makehash([x])[0])"
   ]
  },
  {
   "cell_type": "code",
   "execution_count": 17,
   "metadata": {},
   "outputs": [],
   "source": [
    "secrets = pd.DataFrame(pass_hashed, index=data.NIP.tolist(),columns=['PASS_HASHED'])"
   ]
  },
  {
   "cell_type": "code",
   "execution_count": 20,
   "metadata": {},
   "outputs": [],
   "source": [
    "credential = pd.merge(data, secrets, left_on='NIP', right_index=True, how='inner')"
   ]
  },
  {
   "cell_type": "code",
   "execution_count": 76,
   "metadata": {},
   "outputs": [],
   "source": [
    "credential =data"
   ]
  },
  {
   "cell_type": "code",
   "execution_count": 78,
   "metadata": {},
   "outputs": [],
   "source": [
    "import duckdb\n",
    "db = duckdb.connect('credentials.duckdb')"
   ]
  },
  {
   "cell_type": "code",
   "execution_count": 79,
   "metadata": {},
   "outputs": [
    {
     "ename": "CatalogException",
     "evalue": "Catalog Error: Table with name credential does not exist!\nDid you mean \"information_schema.schemata\"?",
     "output_type": "error",
     "traceback": [
      "\u001b[1;31m---------------------------------------------------------------------------\u001b[0m",
      "\u001b[1;31mCatalogException\u001b[0m                          Traceback (most recent call last)",
      "Cell \u001b[1;32mIn[79], line 1\u001b[0m\n\u001b[1;32m----> 1\u001b[0m db\u001b[39m.\u001b[39;49mexecute(\u001b[39m'\u001b[39;49m\u001b[39mdrop table credential \u001b[39;49m\u001b[39m'\u001b[39;49m)\n",
      "\u001b[1;31mCatalogException\u001b[0m: Catalog Error: Table with name credential does not exist!\nDid you mean \"information_schema.schemata\"?"
     ]
    }
   ],
   "source": [
    "db.execute('drop table credential ')"
   ]
  },
  {
   "cell_type": "code",
   "execution_count": 64,
   "metadata": {},
   "outputs": [
    {
     "ename": "ParserException",
     "evalue": "Parser Error: syntax error at or near \"from\"\nLINE 1: create table credentials from credential\n                                 ^",
     "output_type": "error",
     "traceback": [
      "\u001b[1;31m---------------------------------------------------------------------------\u001b[0m",
      "\u001b[1;31mParserException\u001b[0m                           Traceback (most recent call last)",
      "Cell \u001b[1;32mIn[64], line 1\u001b[0m\n\u001b[1;32m----> 1\u001b[0m db\u001b[39m.\u001b[39;49mexecute(\u001b[39m'\u001b[39;49m\u001b[39mcreate table credentials from credential\u001b[39;49m\u001b[39m'\u001b[39;49m)\n",
      "\u001b[1;31mParserException\u001b[0m: Parser Error: syntax error at or near \"from\"\nLINE 1: create table credentials from credential\n                                 ^"
     ]
    }
   ],
   "source": [
    "db.execute('create table credentials from credential')"
   ]
  },
  {
   "cell_type": "code",
   "execution_count": 97,
   "metadata": {},
   "outputs": [],
   "source": [
    "db.close()"
   ]
  },
  {
   "cell_type": "code",
   "execution_count": 84,
   "metadata": {},
   "outputs": [],
   "source": [
    "s=db.execute('select * from credential').df()\n"
   ]
  },
  {
   "cell_type": "code",
   "execution_count": 96,
   "metadata": {},
   "outputs": [
    {
     "name": "stdout",
     "output_type": "stream",
     "text": [
      "$2b$12$NHHMlYdHHHk3gjEqcJ71medYmF4PN/zdtJMXqlp.G25YG2xeeuoq2\n",
      "$2b$12$uHZzjj0lUx8m.pdyiQwzoe7BpC8YeEiNqTg7IDJRj86FybpVOoF62\n",
      "$2b$12$ReC9emPw5nKWoiQ4ePrEKeZpv88MTldXKk.fybMsR1nGb0fWNk1Gy\n",
      "$2b$12$AGBBHqFhLXFKGzbN.Simou2WXWqfRqH8Opwcc.PXyu0jtcnXrSFem\n",
      "$2b$12$bOg757ifo8.NLExn1rh9a.IXnvVZ863Zb73TphnYXMjeHBzjLFMaO\n"
     ]
    }
   ],
   "source": [
    "for passq in s['pass_hashed']:\n",
    "    print(passq)"
   ]
  },
  {
   "cell_type": "code",
   "execution_count": null,
   "metadata": {},
   "outputs": [],
   "source": []
  }
 ],
 "metadata": {
  "kernelspec": {
   "display_name": "tems",
   "language": "python",
   "name": "python3"
  },
  "language_info": {
   "codemirror_mode": {
    "name": "ipython",
    "version": 3
   },
   "file_extension": ".py",
   "mimetype": "text/x-python",
   "name": "python",
   "nbconvert_exporter": "python",
   "pygments_lexer": "ipython3",
   "version": "3.11.3"
  },
  "orig_nbformat": 4
 },
 "nbformat": 4,
 "nbformat_minor": 2
}
