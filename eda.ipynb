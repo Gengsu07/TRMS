{
 "cells": [
  {
   "cell_type": "code",
<<<<<<< HEAD
   "execution_count": 69,
=======
   "execution_count": 121,
>>>>>>> 7e1ec745dcdcae5fd352f3f6b92c5359e165d2d2
   "metadata": {},
   "outputs": [],
   "source": [
    "import pandas as pd\n",
    "import streamlit_authenticator as stauth\n",
    "import sqlite3\n",
<<<<<<< HEAD
    "conn_sqlite = sqlite3.connect('credentials.db')\n",
    "c = conn_sqlite.cursor()\n",
    "import hashlib\n",
    "import string\n",
    "import random"
=======
    "import string\n",
    "import random\n",
    "import hashlib\n",
    "\n",
    "\n",
    "conn_sqlite = sqlite3.connect(\"credentials.db\")\n",
    "c = conn_sqlite.cursor()"
>>>>>>> 7e1ec745dcdcae5fd352f3f6b92c5359e165d2d2
   ]
  },
  {
   "cell_type": "code",
<<<<<<< HEAD
   "execution_count": 70,
=======
   "execution_count": 122,
   "metadata": {},
   "outputs": [],
   "source": [
    "def make_hashes(password):\n",
    "\treturn hashlib.sha256(str.encode(password)).hexdigest()"
   ]
  },
  {
   "cell_type": "code",
   "execution_count": 123,
   "metadata": {},
   "outputs": [],
   "source": [
    "def generate_random_string(length):\n",
    "    random.seed(10)\n",
    "    letters = string.ascii_lowercase + string.ascii_uppercase + string.digits\n",
    "    return ''.join(random.choice(letters) for _ in range(length))"
   ]
  },
  {
   "cell_type": "code",
   "execution_count": 124,
   "metadata": {},
   "outputs": [],
   "source": [
    "def makehash(x):\n",
    "    passw = stauth.Hasher(x).generate()\n",
    "    return passw"
   ]
  },
  {
   "cell_type": "code",
   "execution_count": 125,
   "metadata": {},
   "outputs": [
    {
     "data": {
      "text/plain": [
       "['$2b$12$7cJULG9oBIBmmACraoLgNudBODfxNbXLK./osgWIVgk2d/6mAQ6hm']"
      ]
     },
     "execution_count": 125,
     "metadata": {},
     "output_type": "execute_result"
    }
   ],
   "source": [
    "makehash(['sugengw07'])"
   ]
  },
  {
   "cell_type": "code",
   "execution_count": 126,
   "metadata": {},
   "outputs": [
    {
     "data": {
      "text/plain": [
       "['$2b$12$KrCrxwowUUnx33cdjD.vVOdKE5SpKJC3HIagVpRjVFEhBeLbRJIwe']"
      ]
     },
     "execution_count": 126,
     "metadata": {},
     "output_type": "execute_result"
    }
   ],
   "source": [
    "makehash(['sugengw07'])"
   ]
  },
  {
   "cell_type": "code",
   "execution_count": 127,
>>>>>>> 7e1ec745dcdcae5fd352f3f6b92c5359e165d2d2
   "metadata": {},
   "outputs": [],
   "source": [
    "data = pd.read_excel('pegawai110.xlsx', dtype={'NIP':'str','KD':'str'},usecols=['NIP','Nama','Kantor','KD'])"
   ]
  },
  {
   "cell_type": "code",
<<<<<<< HEAD
   "execution_count": 71,
   "metadata": {},
   "outputs": [],
   "source": [
    "def generate_random_string(length):\n",
    "    random.seed=10\n",
    "    letters = string.ascii_lowercase + string.ascii_uppercase + string.digits\n",
    "    return ''.join(random.choice(letters) for _ in range(length))"
=======
   "execution_count": 128,
   "metadata": {},
   "outputs": [],
   "source": [
    "data['password'] = data['NIP'].apply(lambda x: x +'@'+ generate_random_string(4))"
>>>>>>> 7e1ec745dcdcae5fd352f3f6b92c5359e165d2d2
   ]
  },
  {
   "cell_type": "code",
<<<<<<< HEAD
   "execution_count": 72,
   "metadata": {},
   "outputs": [],
   "source": [
    "for index,row in data.iterrows():    \n",
    "    data['password'] = data['NIP'].apply(lambda x: x+'@'+generate_random_string(4))"
=======
   "execution_count": 129,
   "metadata": {},
   "outputs": [],
   "source": [
    "data['password_hashed'] = data['password'].apply(lambda x: make_hashes(x))"
>>>>>>> 7e1ec745dcdcae5fd352f3f6b92c5359e165d2d2
   ]
  },
  {
   "cell_type": "code",
<<<<<<< HEAD
   "execution_count": 73,
=======
   "execution_count": 130,
   "metadata": {},
   "outputs": [],
   "source": [
    "data.to_excel('login.xlsx',index=False)"
   ]
  },
  {
   "cell_type": "code",
   "execution_count": 131,
   "metadata": {},
   "outputs": [],
   "source": [
    "data.rename(columns={'Nama':'names', 'NIP':'usernames', 'Kantor':'kantor', 'KD':'kd'},inplace=True)"
   ]
  },
  {
   "cell_type": "code",
   "execution_count": 132,
   "metadata": {},
   "outputs": [],
   "source": [
    "data= data[['usernames','names','password_hashed','kd','kantor']]"
   ]
  },
  {
   "cell_type": "code",
   "execution_count": 133,
>>>>>>> 7e1ec745dcdcae5fd352f3f6b92c5359e165d2d2
   "metadata": {},
   "outputs": [
    {
     "data": {
<<<<<<< HEAD
      "text/html": [
       "<div>\n",
       "<style scoped>\n",
       "    .dataframe tbody tr th:only-of-type {\n",
       "        vertical-align: middle;\n",
       "    }\n",
       "\n",
       "    .dataframe tbody tr th {\n",
       "        vertical-align: top;\n",
       "    }\n",
       "\n",
       "    .dataframe thead th {\n",
       "        text-align: right;\n",
       "    }\n",
       "</style>\n",
       "<table border=\"1\" class=\"dataframe\">\n",
       "  <thead>\n",
       "    <tr style=\"text-align: right;\">\n",
       "      <th></th>\n",
       "      <th>Nama</th>\n",
       "      <th>NIP</th>\n",
       "      <th>Kantor</th>\n",
       "      <th>KD</th>\n",
       "      <th>password</th>\n",
       "    </tr>\n",
       "  </thead>\n",
       "  <tbody>\n",
       "    <tr>\n",
       "      <th>0</th>\n",
       "      <td>MUHAMMAD ISMIRANSYAH M. ZAIN</td>\n",
       "      <td>060077930</td>\n",
       "      <td>Kanwil DJP Jakarta Timur</td>\n",
       "      <td>110</td>\n",
       "      <td>060077930@FcS7</td>\n",
       "    </tr>\n",
       "    <tr>\n",
       "      <th>1</th>\n",
       "      <td>SUGENG SATOTO</td>\n",
       "      <td>060094070</td>\n",
       "      <td>Kanwil DJP Jakarta Timur</td>\n",
       "      <td>110</td>\n",
       "      <td>060094070@TmoT</td>\n",
       "    </tr>\n",
       "    <tr>\n",
       "      <th>2</th>\n",
       "      <td>DESSY EKA PUTRI</td>\n",
       "      <td>060087065</td>\n",
       "      <td>Kanwil DJP Jakarta Timur</td>\n",
       "      <td>110</td>\n",
       "      <td>060087065@dYcU</td>\n",
       "    </tr>\n",
       "    <tr>\n",
       "      <th>3</th>\n",
       "      <td>SANDRA BUANA</td>\n",
       "      <td>060083161</td>\n",
       "      <td>Kanwil DJP Jakarta Timur</td>\n",
       "      <td>110</td>\n",
       "      <td>060083161@rgGi</td>\n",
       "    </tr>\n",
       "    <tr>\n",
       "      <th>4</th>\n",
       "      <td>ARDHIE PERMADI</td>\n",
       "      <td>060083105</td>\n",
       "      <td>Kanwil DJP Jakarta Timur</td>\n",
       "      <td>110</td>\n",
       "      <td>060083105@Fum4</td>\n",
       "    </tr>\n",
       "    <tr>\n",
       "      <th>...</th>\n",
       "      <td>...</td>\n",
       "      <td>...</td>\n",
       "      <td>...</td>\n",
       "      <td>...</td>\n",
       "      <td>...</td>\n",
       "    </tr>\n",
       "    <tr>\n",
       "      <th>1082</th>\n",
       "      <td>NASTRIA PRATAMA</td>\n",
       "      <td>930302289</td>\n",
       "      <td>KPP Madya Dua Jakarta Timur</td>\n",
       "      <td>097</td>\n",
       "      <td>930302289@NF2v</td>\n",
       "    </tr>\n",
       "    <tr>\n",
       "      <th>1083</th>\n",
       "      <td>ADRY NOVIANTO</td>\n",
       "      <td>860013856</td>\n",
       "      <td>KPP Madya Dua Jakarta Timur</td>\n",
       "      <td>097</td>\n",
       "      <td>860013856@R1PX</td>\n",
       "    </tr>\n",
       "    <tr>\n",
       "      <th>1084</th>\n",
       "      <td>HERU IRFANTO</td>\n",
       "      <td>808320132</td>\n",
       "      <td>KPP Madya Dua Jakarta Timur</td>\n",
       "      <td>097</td>\n",
       "      <td>808320132@IqxB</td>\n",
       "    </tr>\n",
       "    <tr>\n",
       "      <th>1085</th>\n",
       "      <td>MIFTAKHUL PRATAMA PUTRA</td>\n",
       "      <td>810600567</td>\n",
       "      <td>KPP Madya Dua Jakarta Timur</td>\n",
       "      <td>097</td>\n",
       "      <td>810600567@pZUh</td>\n",
       "    </tr>\n",
       "    <tr>\n",
       "      <th>1086</th>\n",
       "      <td>STACIA ARGANI</td>\n",
       "      <td>820006345</td>\n",
       "      <td>KPP Madya Dua Jakarta Timur</td>\n",
       "      <td>097</td>\n",
       "      <td>820006345@raHv</td>\n",
       "    </tr>\n",
       "  </tbody>\n",
       "</table>\n",
       "<p>1087 rows × 5 columns</p>\n",
       "</div>"
      ],
      "text/plain": [
       "                              Nama        NIP                       Kantor  \\\n",
       "0     MUHAMMAD ISMIRANSYAH M. ZAIN  060077930     Kanwil DJP Jakarta Timur   \n",
       "1                    SUGENG SATOTO  060094070     Kanwil DJP Jakarta Timur   \n",
       "2                  DESSY EKA PUTRI  060087065     Kanwil DJP Jakarta Timur   \n",
       "3                     SANDRA BUANA  060083161     Kanwil DJP Jakarta Timur   \n",
       "4                   ARDHIE PERMADI  060083105     Kanwil DJP Jakarta Timur   \n",
       "...                            ...        ...                          ...   \n",
       "1082               NASTRIA PRATAMA  930302289  KPP Madya Dua Jakarta Timur   \n",
       "1083                 ADRY NOVIANTO  860013856  KPP Madya Dua Jakarta Timur   \n",
       "1084                  HERU IRFANTO  808320132  KPP Madya Dua Jakarta Timur   \n",
       "1085       MIFTAKHUL PRATAMA PUTRA  810600567  KPP Madya Dua Jakarta Timur   \n",
       "1086                 STACIA ARGANI  820006345  KPP Madya Dua Jakarta Timur   \n",
       "\n",
       "       KD        password  \n",
       "0     110  060077930@FcS7  \n",
       "1     110  060094070@TmoT  \n",
       "2     110  060087065@dYcU  \n",
       "3     110  060083161@rgGi  \n",
       "4     110  060083105@Fum4  \n",
       "...   ...             ...  \n",
       "1082  097  930302289@NF2v  \n",
       "1083  097  860013856@R1PX  \n",
       "1084  097  808320132@IqxB  \n",
       "1085  097  810600567@pZUh  \n",
       "1086  097  820006345@raHv  \n",
       "\n",
       "[1087 rows x 5 columns]"
      ]
     },
     "execution_count": 73,
=======
      "text/plain": [
       "<sqlite3.Cursor at 0x2b0fbc600c0>"
      ]
     },
     "execution_count": 133,
>>>>>>> 7e1ec745dcdcae5fd352f3f6b92c5359e165d2d2
     "metadata": {},
     "output_type": "execute_result"
    }
   ],
   "source": [
    "c.execute('CREATE TABLE IF NOT EXISTS user(usernames text, names text,password text, kd text, kantor text)')"
   ]
  },
  {
   "cell_type": "code",
<<<<<<< HEAD
   "execution_count": 82,
   "metadata": {},
   "outputs": [],
   "source": [
    "def make_hashes(password):\n",
    "\treturn stauth.Hasher(password).generate()\n",
    "def check_hashes(password,hashed_text):\n",
    "\tif make_hashes(password) == hashed_text:\n",
    "\t\treturn hashed_text\n",
    "\treturn False\n",
    "def add_userdata(username,nama,password):\n",
    "\tc.execute('INSERT INTO user(username,name,password) VALUES (?,?,?)',(username,nama,password))\n",
    "\tconn_sqlite.commit()"
   ]
  },
  {
   "cell_type": "code",
   "execution_count": 79,
   "metadata": {},
   "outputs": [],
   "source": [
    "c.execute('CREATE TABLE IF NOT EXISTS user(username TEXT,name TEXT,password TEXT)')\n",
    "conn_sqlite.commit()"
   ]
  },
  {
   "cell_type": "code",
   "execution_count": 76,
   "metadata": {},
   "outputs": [],
   "source": [
    "usernames = data['NIP'].tolist()\n",
    "names =data['Nama'].tolist()\n",
    "password = data['password'].tolist()\n",
    "hashed_password = stauth.Hasher(password).generate()"
   ]
  },
  {
   "cell_type": "code",
   "execution_count": 83,
   "metadata": {},
   "outputs": [],
   "source": [
    "for (username, name, hash_password) in zip(usernames, names, hashed_password):\n",
    "    add_userdata(username, name, hash_password)"
   ]
  },
  {
   "cell_type": "code",
   "execution_count": 84,
   "metadata": {},
   "outputs": [],
   "source": [
    "# data.to_excel('login.xlsx',index=False)"
   ]
  },
  {
   "cell_type": "code",
   "execution_count": 62,
   "metadata": {},
   "outputs": [],
   "source": [
    "for index,row in data.iterrows():\n",
    "    add_userdata(row['NIP'],row['Nama'],make_hashes(row['password']),row['KD'],row['Kantor'])"
   ]
  },
  {
   "cell_type": "code",
   "execution_count": 15,
=======
   "execution_count": 134,
>>>>>>> 7e1ec745dcdcae5fd352f3f6b92c5359e165d2d2
   "metadata": {},
   "outputs": [],
   "source": [
    "def add_user(nip, nama, password,kode,kpp):\n",
    "    c.execute('INSERT INTO user(usernames, names, password,kd,kantor) VALUES(?,?,?,?,?)',(nip,nama, password,kode,kpp))\n",
    "    conn_sqlite.commit()"
   ]
  },
  {
   "cell_type": "code",
   "execution_count": 135,
   "metadata": {},
   "outputs": [],
   "source": [
    "usernames = data['usernames'].tolist()\n",
    "names = data['names'].tolist()\n",
    "password = data['password_hashed'].tolist()\n",
    "kd = data['kd'].tolist()\n",
    "kantor = data['kantor'].tolist()\n",
    "for (username,name,passw,kode,kpp) in zip(usernames,names,password, kd, kantor):\n",
    "    add_user(username,name,passw,kode,kpp)\n",
    "    "
   ]
  },
  {
   "cell_type": "code",
   "execution_count": 111,
   "metadata": {},
   "outputs": [
    {
     "data": {
      "text/plain": [
       "<sqlite3.Cursor at 0x2b0fbb901c0>"
      ]
     },
     "execution_count": 111,
     "metadata": {},
     "output_type": "execute_result"
    }
   ],
   "source": [
    "# c.execute('DROP TABLE user')"
   ]
  },
  {
   "cell_type": "code",
   "execution_count": null,
   "metadata": {},
   "outputs": [],
   "source": [
    "nip = [x['NIP'] for x in data]\n",
    "nama = [x['Nama'] for x in data]\n",
    "kantor = [x['Kantor'] for x in data]\n",
    "password = [x['password_hashed'] for x in data]"
   ]
  },
  {
   "cell_type": "code",
   "execution_count": null,
   "metadata": {},
   "outputs": [],
   "source": [
    "add_user()"
   ]
  },
  {
   "cell_type": "code",
   "execution_count": null,
   "metadata": {},
   "outputs": [],
   "source": [
    "data['password_hashed']='x '\n",
    "for idx,x in enumerate(data['password']):\n",
    "    print(data.loc[idx,'password_hashed':'password_hashed'])"
   ]
  },
  {
   "cell_type": "code",
   "execution_count": null,
   "metadata": {},
   "outputs": [],
   "source": [
    "data = data.head()"
   ]
  },
  {
   "cell_type": "code",
   "execution_count": null,
   "metadata": {},
   "outputs": [],
   "source": [
    "conn_sqlite.close()"
   ]
  },
  {
   "cell_type": "code",
   "execution_count": null,
   "metadata": {},
   "outputs": [],
   "source": [
    "data['pass_hashed'] = data['password'].apply(lambda x: makehash([x])[0])"
   ]
  },
  {
   "cell_type": "code",
   "execution_count": null,
   "metadata": {},
   "outputs": [],
   "source": [
    "secrets = pd.DataFrame(pass_hashed, index=data.NIP.tolist(),columns=['PASS_HASHED'])"
   ]
  },
  {
   "cell_type": "code",
   "execution_count": null,
   "metadata": {},
   "outputs": [],
   "source": [
    "credential = pd.merge(data, secrets, left_on='NIP', right_index=True, how='inner')"
   ]
  },
  {
   "cell_type": "code",
   "execution_count": null,
   "metadata": {},
   "outputs": [],
   "source": [
    "credential =data"
   ]
  },
  {
   "cell_type": "code",
<<<<<<< HEAD
   "execution_count": 23,
=======
   "execution_count": null,
   "metadata": {},
   "outputs": [],
   "source": [
    "import duckdb\n",
    "db = duckdb.connect('credentials.duckdb')"
   ]
  },
  {
   "cell_type": "code",
   "execution_count": null,
>>>>>>> 7e1ec745dcdcae5fd352f3f6b92c5359e165d2d2
   "metadata": {},
   "outputs": [],
   "source": [
    "db.execute('drop table credential ')"
   ]
  },
  {
   "cell_type": "code",
<<<<<<< HEAD
   "execution_count": 6,
=======
   "execution_count": null,
   "metadata": {},
   "outputs": [],
   "source": [
    "db.execute('create table credentials from credential')"
   ]
  },
  {
   "cell_type": "code",
   "execution_count": null,
>>>>>>> 7e1ec745dcdcae5fd352f3f6b92c5359e165d2d2
   "metadata": {},
   "outputs": [],
   "source": [
    "db.close()"
   ]
  },
  {
   "cell_type": "code",
   "execution_count": 68,
   "metadata": {},
   "outputs": [],
   "source": [
    "c.execute('DROP TABLE user')\n",
    "conn_sqlite.commit()"
   ]
  },
  {
   "cell_type": "code",
   "execution_count": 64,
   "metadata": {},
   "outputs": [],
   "source": [
    "from yaml.loader import SafeLoader\n",
    "import yaml\n",
    "with open(\".streamlit/login.yaml\") as file:\n",
    "    config = yaml.load(file, Loader=SafeLoader)"
   ]
  },
  {
   "cell_type": "code",
   "execution_count": 85,
   "metadata": {},
   "outputs": [],
   "source": [
    "cred =config['credentials']"
   ]
  },
  {
   "cell_type": "code",
   "execution_count": 93,
   "metadata": {},
   "outputs": [
    {
     "data": {
      "text/plain": [
       "{'usernames': {'060098992': {'email': None,\n",
       "   'name': 'HERMAWAN',\n",
       "   'password': '$2b$12$q0JaQ8JKzS4DxMsS8Y2OJOyklNImhwBHZwhp0CLre2sA.nI.lH53C'},\n",
       "  '060077930': {'email': None,\n",
       "   'name': 'MUHAMMAD ISMIRANSYAH M. ZAIN',\n",
       "   'password': '$2b$12$2iOgkgdCRpBXziJ6qOuApu4ERfclryQUeVaODzWmZoO7i0fjQRo1q'},\n",
       "  '060087065': {'email': None,\n",
       "   'name': 'DESSY EKA PUTRI',\n",
       "   'password': '$2b$12$YiVsALwTjDQyTVVKZqlgUOt.dLArM.hlEjckznjqrrJS47rOREnjS'},\n",
       "  '910222266': {'email': None,\n",
       "   'name': 'EMANUEL EKO DARMAWAN',\n",
       "   'password': '$2b$12$0H5.Yrhv.c1TCzf3TfkE6ecjI2hc.UWqNGQSHAYHObkgLOwF35.jO'},\n",
       "  '958633540': {'email': None,\n",
       "   'name': 'WIRAWAN THO`AT ARUMDHANI',\n",
       "   'password': '$2b$12$K23Mk7N2DBHld4bVIorkeeiascmHUBNCKvQSPu103fw5ocygiqbee'},\n",
       "  '060105487': {'email': None,\n",
       "   'name': 'HAWELL JECKSON',\n",
       "   'password': '$2b$12$y0eo90dIyUApdhr79vqTse8BStnf8C7djiIb06vHoaBKUGiO8AfBe'},\n",
       "  '953800975': {'email': None,\n",
       "   'name': 'DEWI MARGARET LAMRIA PANGARIBUAN',\n",
       "   'password': '$2b$12$CZIe1CHvSduqoHPIguwqNe8te8qBmxWf32P5r3/uBN14KswFQt2TO'},\n",
       "  '817932323': {'email': None,\n",
       "   'name': 'BAYU AJI SETIAWAN',\n",
       "   'password': '$2b$12$t0y4LpvsISAJjplWG919me9JhVb7eIYetOrdti4wRCDXvHbevcd12'},\n",
       "  '958634307': {'email': None,\n",
       "   'name': 'AGIL WIDIYATMOKO',\n",
       "   'password': '$2b$12$n5txLiGKbBetZqrgv.R2XO0ZqkWRNHfXlwBCSS0A8Pi1BboHGDuhG'},\n",
       "  'Jaktim': {'email': None,\n",
       "   'name': 'Kanwil DJP Jakarta Timur',\n",
       "   'password': '$2b$12$IOmUm8RuDxB.ma.KdAHXr.udZlhvoODl.P0m0JcvWqT8uBEi/eh7W'},\n",
       "  '810202558': {'email': None,\n",
       "   'name': 'Sugeng Wahyudi',\n",
       "   'password': '$2b$12$hwy7WHh3uzUj4XcPKdgG8O5vavC3nqHPOv3Q0/0u7tb.nchE9VAUK'}}}"
      ]
     },
     "execution_count": 93,
     "metadata": {},
     "output_type": "execute_result"
    }
   ],
   "source": [
    "cred"
   ]
  },
  {
   "cell_type": "code",
   "execution_count": 89,
   "metadata": {},
   "outputs": [
    {
     "data": {
      "text/plain": [
       "{'email': None,\n",
       " 'name': 'HERMAWAN',\n",
       " 'password': '$2b$12$q0JaQ8JKzS4DxMsS8Y2OJOyklNImhwBHZwhp0CLre2sA.nI.lH53C'}"
      ]
     },
     "execution_count": 89,
     "metadata": {},
     "output_type": "execute_result"
    }
   ],
   "source": [
    "cred['usernames']['060098992']"
   ]
  },
  {
   "cell_type": "code",
   "execution_count": null,
   "metadata": {},
   "outputs": [],
   "source": [
    "s=db.execute('select * from credential').df()\n"
   ]
  },
  {
   "cell_type": "code",
   "execution_count": null,
   "metadata": {},
   "outputs": [],
   "source": [
    "for passq in s['pass_hashed']:\n",
    "    print(passq)"
   ]
  },
  {
   "cell_type": "code",
   "execution_count": null,
   "metadata": {},
   "outputs": [],
   "source": []
  }
 ],
 "metadata": {
  "kernelspec": {
   "display_name": "tems",
   "language": "python",
   "name": "python3"
  },
  "language_info": {
   "codemirror_mode": {
    "name": "ipython",
    "version": 3
   },
   "file_extension": ".py",
   "mimetype": "text/x-python",
   "name": "python",
   "nbconvert_exporter": "python",
   "pygments_lexer": "ipython3",
   "version": "3.11.3"
  },
  "orig_nbformat": 4
 },
 "nbformat": 4,
 "nbformat_minor": 2
}
